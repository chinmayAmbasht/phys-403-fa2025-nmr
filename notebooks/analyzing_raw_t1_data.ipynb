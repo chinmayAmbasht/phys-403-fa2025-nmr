{
 "cells": [
  {
   "cell_type": "markdown",
   "metadata": {},
   "source": [
    "<h1><b><u> Analyzing raw data from Two-Pulse NMR Spectroscopy\n"
   ]
  },
  {
   "cell_type": "markdown",
   "metadata": {},
   "source": [
    "----\n",
    "\n",
    "In nuclear magnetic resonance (NMR) and magnetic resonance imaging (MRI), the relaxation times T1 and T2 describe how nuclear spins return to equilibrium after being disturbed by a radiofrequency pulse.\n",
    "\n",
    "----\n",
    "\n",
    "<u>T1 (Spin–lattice relaxation time):</u>  This is the time constant that characterizes how quickly the net magnetization vector recovers along the direction of the external magnetic field (longitudinal relaxation). It reflects energy exchange between the spins and their surroundings (the “lattice”). T1 depends strongly on molecular motion and the local environment, often increasing with lower paramagnetic ion concentration.\n",
    "\n",
    "----"
   ]
  },
  {
   "cell_type": "code",
   "execution_count": 1,
   "metadata": {},
   "outputs": [],
   "source": [
    "import pandas as pd\n",
    "import numpy as np\n",
    "import matplotlib.pyplot as plt\n",
    "import matplotlib as mpl"
   ]
  },
  {
   "cell_type": "code",
   "execution_count": null,
   "metadata": {},
   "outputs": [],
   "source": [
    "raw_t1_data = pd.read_csv(\"../data/raw_data/\")"
   ]
  },
  {
   "cell_type": "code",
   "execution_count": null,
   "metadata": {},
   "outputs": [],
   "source": []
  }
 ],
 "metadata": {
  "kernelspec": {
   "display_name": "cobaya_env",
   "language": "python",
   "name": "python3"
  },
  "language_info": {
   "codemirror_mode": {
    "name": "ipython",
    "version": 3
   },
   "file_extension": ".py",
   "mimetype": "text/x-python",
   "name": "python",
   "nbconvert_exporter": "python",
   "pygments_lexer": "ipython3",
   "version": "3.11.13"
  }
 },
 "nbformat": 4,
 "nbformat_minor": 2
}
