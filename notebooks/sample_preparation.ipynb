{
 "cells": [
  {
   "cell_type": "markdown",
   "metadata": {},
   "source": [
    "<h1><b> Sample preparation of copper (II) sulfate solution"
   ]
  },
  {
   "cell_type": "markdown",
   "metadata": {},
   "source": [
    "<h2> Uncertainities in the mass and volume"
   ]
  },
  {
   "cell_type": "markdown",
   "metadata": {},
   "source": [
    "<h5> The drift in the weight balance is about 0.05 g. And this drift contributes to an uncertainty in both volume and mass measurement. We take this as a systematic error in our calculation. We also note that due to errors in water addition we can have an uncertainty in volume upto 0.1 mL which corresponds to 0.1 g on the weighing scale, but we will treat that as our measurement error in volume. "
   ]
  },
  {
   "cell_type": "code",
   "execution_count": 74,
   "metadata": {},
   "outputs": [
    {
     "name": "stdout",
     "output_type": "stream",
     "text": [
      " Concentration (M)  Final Volume (mL)  Relative Uncertainty (%)  Absolute Uncertainty ΔM (M)   Result (M ± ΔM)\n",
      "           0.19500          10.000000                  1.522038                     0.002968 0.19500 ± 0.00297\n",
      "           0.09660          20.186335                  1.619678                     0.001565 0.09660 ± 0.00156\n",
      "           0.05040          38.690476                  1.549227                     0.000781 0.05040 ± 0.00078\n",
      "           0.02580          75.581395                  1.529210                     0.000395 0.02580 ± 0.00039\n",
      "           0.01406         138.691323                  1.524172                     0.000214 0.01406 ± 0.00021\n",
      "           0.00620         314.516129                  1.522453                     0.000094 0.00620 ± 0.00009\n"
     ]
    }
   ],
   "source": [
    "import numpy as np\n",
    "import pandas as pd\n",
    "\n",
    "mass_salt = 4.87      # g\n",
    "dmass = 0.05          # g \n",
    "V_stock = 100.00      # mL\n",
    "dV_meas = 0.05        # mL \n",
    "dV_add = 0.10         # mL \n",
    "M_stock_nominal = 0.195  # M (nominal)\n",
    "\n",
    "# Aliquot parameters\n",
    "V_aliquot = 10.00     # mL\n",
    "# Combine volume uncertainties in quadrature\n",
    "dV = np.sqrt(dV_meas**2 + dV_add**2)\n",
    "\n",
    "# Final concentrations (target)\n",
    "C_targets = [0.19500, 0.09660, 0.05040, 0.02580, 0.01406, 0.00620]\n",
    "\n",
    "# --- Step 1: Stock solution uncertainty ---\n",
    "rel_mass = dmass / mass_salt\n",
    "rel_vol_stock = dV / V_stock\n",
    "rel_M_stock = np.sqrt(rel_mass**2 + rel_vol_stock**2)\n",
    "dM_stock = M_stock_nominal * rel_M_stock\n",
    "\n",
    "# --- Step 2: Process each concentration ---\n",
    "rows = []\n",
    "\n",
    "for C in C_targets:\n",
    "    if np.isclose(C, M_stock_nominal):  \n",
    "        rel_unc = np.sqrt(rel_M_stock**2 + (dV / V_aliquot)**2)\n",
    "        dC = C * rel_unc\n",
    "        rows.append([C, V_aliquot, rel_unc * 100, dC, f\"{C:.5f} ± {dC:.5f}\"])\n",
    "    else:\n",
    "        # Infer final volume from dilution equation\n",
    "        V_final = V_aliquot * M_stock_nominal / C\n",
    "        rel_unc = np.sqrt(\n",
    "            rel_M_stock**2 +\n",
    "            (dV / V_aliquot)**2 +\n",
    "            (dV / V_final)**2\n",
    "        )\n",
    "        dC = C * rel_unc\n",
    "        rows.append([C, V_final, rel_unc * 100, dC, f\"{C:.5f} ± {dC:.5f}\"])\n",
    "\n",
    "# --- Step 3: Present results ---\n",
    "df = pd.DataFrame(rows, columns=[\n",
    "    \"Concentration (M)\",\n",
    "    \"Final Volume (mL)\",\n",
    "    \"Relative Uncertainty (%)\",\n",
    "    \"Absolute Uncertainty ΔM (M)\",\n",
    "    \"Result (M ± ΔM)\"\n",
    "])\n",
    "\n",
    "print(df.to_string(index=False))"
   ]
  },
  {
   "cell_type": "code",
   "execution_count": null,
   "metadata": {},
   "outputs": [],
   "source": []
  }
 ],
 "metadata": {
  "kernelspec": {
   "display_name": "Python 3 (ipykernel)",
   "language": "python",
   "name": "python3"
  },
  "language_info": {
   "codemirror_mode": {
    "name": "ipython",
    "version": 3
   },
   "file_extension": ".py",
   "mimetype": "text/x-python",
   "name": "python",
   "nbconvert_exporter": "python",
   "pygments_lexer": "ipython3",
   "version": "3.11.13"
  }
 },
 "nbformat": 4,
 "nbformat_minor": 4
}
