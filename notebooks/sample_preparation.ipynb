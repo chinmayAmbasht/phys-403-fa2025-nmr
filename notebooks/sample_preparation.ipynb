{
 "cells": [
  {
   "cell_type": "markdown",
   "metadata": {},
   "source": [
    "<h1><b> Sample preparation of copper (II) sulfate solution"
   ]
  },
  {
   "cell_type": "code",
   "execution_count": 1,
   "metadata": {},
   "outputs": [
    {
     "data": {
      "text/plain": [
       "4.87"
      ]
     },
     "execution_count": 1,
     "metadata": {},
     "output_type": "execute_result"
    }
   ],
   "source": [
    "original_sample_molarity = 0.195 # M \n",
    "volume_water_added = 0.1 # L\n",
    "\n",
    "initial_weight_of_CuSO4_5H2O = original_sample_molarity * 249.68 * 0.1 # g\n",
    "initial_weight_of_CuSO4_5H2O.__round__(2)"
   ]
  },
  {
   "cell_type": "markdown",
   "metadata": {},
   "source": [
    "<h2> Uncertainities in the mass and volume"
   ]
  },
  {
   "cell_type": "markdown",
   "metadata": {},
   "source": [
    "<h5> The drift in the weight balance is about 0.05 g. And this drift contributes to an uncertainty in both volume and mass measurement. We take this as a systematic error in our calculation. We also note that due to errors in water addition we can have an uncertainty in volume upto 0.1 mL which corresponds to 0.1 g on the weighing scale, but we will treat that as our measurement error in volume. "
   ]
  },
  {
   "cell_type": "code",
   "execution_count": 2,
   "metadata": {},
   "outputs": [],
   "source": [
    "systematic_uncertainty_mass = 0.05 # g\n",
    "systematic_uncertainty_volume = 0.05 # mL\n",
    "measurement_uncertainty_volume = 0.1 # mL"
   ]
  },
  {
   "cell_type": "code",
   "execution_count": 3,
   "metadata": {},
   "outputs": [],
   "source": [
    "def uncertainty_calculation(mass, volume, systematic_uncertainty_mass, systematic_uncertainty_volume, measurement_uncertainty_volume):\n",
    "    relative_uncertainty_mass = systematic_uncertainty_mass / mass\n",
    "    relative_uncertainty_volume = (systematic_uncertainty_volume + measurement_uncertainty_volume) / volume\n",
    "    total_relative_uncertainty = (relative_uncertainty_mass**2 + relative_uncertainty_volume**2)**0.5\n",
    "    return total_relative_uncertainty\n"
   ]
  },
  {
   "cell_type": "markdown",
   "metadata": {},
   "source": [
    "## Sample 1: 0.195 M"
   ]
  },
  {
   "cell_type": "code",
   "execution_count": 4,
   "metadata": {},
   "outputs": [
    {
     "data": {
      "text/plain": [
       "0.487"
      ]
     },
     "execution_count": 4,
     "metadata": {},
     "output_type": "execute_result"
    }
   ],
   "source": [
    "volume = 10 #mL\n",
    "mass_CuSO4_10mL = (initial_weight_of_CuSO4_5H2O / 100) * volume # g\n",
    "mass_CuSO4_10mL.__round__(3)"
   ]
  },
  {
   "cell_type": "code",
   "execution_count": 5,
   "metadata": {},
   "outputs": [
    {
     "data": {
      "text/plain": [
       "0.0202"
      ]
     },
     "execution_count": 5,
     "metadata": {},
     "output_type": "execute_result"
    }
   ],
   "source": [
    "uncertainty_molarity = 0.195 * uncertainty_calculation(mass_CuSO4_10mL, volume, systematic_uncertainty_mass, systematic_uncertainty_volume, measurement_uncertainty_volume)\n",
    "uncertainty_molarity.__round__(4)"
   ]
  },
  {
   "cell_type": "markdown",
   "metadata": {},
   "source": [
    "## Sample 2: 0.0966 M"
   ]
  },
  {
   "cell_type": "code",
   "execution_count": 6,
   "metadata": {},
   "outputs": [
    {
     "data": {
      "text/plain": [
       "0.241"
      ]
     },
     "execution_count": 6,
     "metadata": {},
     "output_type": "execute_result"
    }
   ],
   "source": [
    "volume_solution = 10 # mL\n",
    "mass_CuSO4_10mL = 249.685 * 0.0966 * (volume_solution / 1000) # g\n",
    "mass_CuSO4_10mL.__round__(3)"
   ]
  },
  {
   "cell_type": "code",
   "execution_count": 7,
   "metadata": {},
   "outputs": [
    {
     "data": {
      "text/plain": [
       "0.0201"
      ]
     },
     "execution_count": 7,
     "metadata": {},
     "output_type": "execute_result"
    }
   ],
   "source": [
    "uncertainty_molarity = 0.0966 * uncertainty_calculation(mass_CuSO4_10mL, volume_solution, systematic_uncertainty_mass, systematic_uncertainty_volume, measurement_uncertainty_volume)\n",
    "uncertainty_molarity.__round__(4)"
   ]
  },
  {
   "cell_type": "markdown",
   "metadata": {},
   "source": [
    "## Sample 3: 0.0504 M"
   ]
  },
  {
   "cell_type": "code",
   "execution_count": 8,
   "metadata": {},
   "outputs": [
    {
     "data": {
      "text/plain": [
       "0.126"
      ]
     },
     "execution_count": 8,
     "metadata": {},
     "output_type": "execute_result"
    }
   ],
   "source": [
    "volume_solution = 10 # mL\n",
    "mass_CuSO4_10mL = 249.685 * 0.0504 * (volume_solution / 1000) # g\n",
    "mass_CuSO4_10mL.__round__(3)"
   ]
  },
  {
   "cell_type": "code",
   "execution_count": 9,
   "metadata": {},
   "outputs": [
    {
     "data": {
      "text/plain": [
       "0.02004"
      ]
     },
     "execution_count": 9,
     "metadata": {},
     "output_type": "execute_result"
    }
   ],
   "source": [
    "uncertainty_molarity = 0.0504 * uncertainty_calculation(mass_CuSO4_10mL, volume_solution, systematic_uncertainty_mass, systematic_uncertainty_volume, measurement_uncertainty_volume)\n",
    "uncertainty_molarity.__round__(5)"
   ]
  },
  {
   "cell_type": "markdown",
   "metadata": {},
   "source": [
    "## Sample 4: 0.0258 M"
   ]
  },
  {
   "cell_type": "code",
   "execution_count": 10,
   "metadata": {},
   "outputs": [
    {
     "data": {
      "text/plain": [
       "0.064"
      ]
     },
     "execution_count": 10,
     "metadata": {},
     "output_type": "execute_result"
    }
   ],
   "source": [
    "volume_solution = 10 # mL\n",
    "mass_CuSO4_10mL = 249.685 * 0.0258 * (volume_solution / 1000) # g\n",
    "mass_CuSO4_10mL.__round__(3)"
   ]
  },
  {
   "cell_type": "code",
   "execution_count": 11,
   "metadata": {},
   "outputs": [
    {
     "data": {
      "text/plain": [
       "0.02003"
      ]
     },
     "execution_count": 11,
     "metadata": {},
     "output_type": "execute_result"
    }
   ],
   "source": [
    "uncertainty_molarity = 0.0258 * uncertainty_calculation(mass_CuSO4_10mL, volume_solution, systematic_uncertainty_mass, systematic_uncertainty_volume, measurement_uncertainty_volume)\n",
    "uncertainty_molarity.__round__(5)"
   ]
  },
  {
   "cell_type": "markdown",
   "metadata": {},
   "source": [
    "## Sample 5: 0.01406 M"
   ]
  },
  {
   "cell_type": "code",
   "execution_count": 12,
   "metadata": {},
   "outputs": [
    {
     "data": {
      "text/plain": [
       "0.0351"
      ]
     },
     "execution_count": 12,
     "metadata": {},
     "output_type": "execute_result"
    }
   ],
   "source": [
    "volume_solution = 10 # mL\n",
    "mass_CuSO4_10mL = 249.685 * 0.01406 * (volume_solution / 1000) # g\n",
    "mass_CuSO4_10mL.__round__(4)"
   ]
  },
  {
   "cell_type": "code",
   "execution_count": 13,
   "metadata": {},
   "outputs": [
    {
     "data": {
      "text/plain": [
       "0.020026"
      ]
     },
     "execution_count": 13,
     "metadata": {},
     "output_type": "execute_result"
    }
   ],
   "source": [
    "uncertainty_molarity = 0.01406 * uncertainty_calculation(mass_CuSO4_10mL, volume_solution, systematic_uncertainty_mass, systematic_uncertainty_volume, measurement_uncertainty_volume)\n",
    "uncertainty_molarity.__round__(6)"
   ]
  },
  {
   "cell_type": "markdown",
   "metadata": {},
   "source": [
    "## Sample 6: 0.0062 M"
   ]
  },
  {
   "cell_type": "code",
   "execution_count": 14,
   "metadata": {},
   "outputs": [
    {
     "data": {
      "text/plain": [
       "0.0155"
      ]
     },
     "execution_count": 14,
     "metadata": {},
     "output_type": "execute_result"
    }
   ],
   "source": [
    "volume_solution = 10 # mL\n",
    "mass_CuSO4_10mL = 249.685 * 0.0062 * (volume_solution / 1000) # g\n",
    "mass_CuSO4_10mL.__round__(4)"
   ]
  },
  {
   "cell_type": "code",
   "execution_count": 15,
   "metadata": {},
   "outputs": [
    {
     "data": {
      "text/plain": [
       "0.020025"
      ]
     },
     "execution_count": 15,
     "metadata": {},
     "output_type": "execute_result"
    }
   ],
   "source": [
    "uncertainty_molarity = 0.0062 * uncertainty_calculation(mass_CuSO4_10mL, volume_solution, systematic_uncertainty_mass, systematic_uncertainty_volume, measurement_uncertainty_volume)\n",
    "uncertainty_molarity.__round__(6)"
   ]
  },
  {
   "cell_type": "code",
   "execution_count": null,
   "metadata": {},
   "outputs": [],
   "source": []
  }
 ],
 "metadata": {
  "kernelspec": {
   "display_name": "cobaya_env",
   "language": "python",
   "name": "python3"
  },
  "language_info": {
   "codemirror_mode": {
    "name": "ipython",
    "version": 3
   },
   "file_extension": ".py",
   "mimetype": "text/x-python",
   "name": "python",
   "nbconvert_exporter": "python",
   "pygments_lexer": "ipython3",
   "version": "3.11.13"
  }
 },
 "nbformat": 4,
 "nbformat_minor": 2
}
