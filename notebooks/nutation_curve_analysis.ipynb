{
 "cells": [
  {
   "cell_type": "markdown",
   "metadata": {},
   "source": [
    "<h1> Nutation Curve Analysis"
   ]
  },
  {
   "cell_type": "markdown",
   "metadata": {},
   "source": [
    "In nuclear magnetic resonance (NMR), the **nutation curve** describes the oscillatory dependence of the detected signal intensity on the flip angle of an applied radiofrequency (RF) pulse. It is most commonly measured with a two-pulse sequence and provides a direct way to calibrate the RF field strength.\n",
    "\n",
    "### The Nutation Curve\n",
    "\n",
    "Plotting the signal intensity as a function of the first pulse duration $\\tau$ gives a sinusoidal curve:\n",
    "\n",
    "* **Maxima** at $\\theta = \\pi/2, 3\\pi/2, \\dots$, where the spin system is maximally tipped into the transverse plane.\n",
    "* **Zero crossings** at $\\theta = 0, \\pi, 2\\pi, \\dots$, where no transverse magnetization is detected.\n",
    "\n",
    "This sinusoidal oscillation is the nutation curve. We use this oscillation curve to find out the period for which the $\\pi/2$ and $\\pi$ pulse must be applied. "
   ]
  },
  {
   "cell_type": "code",
   "execution_count": null,
   "metadata": {},
   "outputs": [],
   "source": []
  }
 ],
 "metadata": {
  "language_info": {
   "name": "python"
  }
 },
 "nbformat": 4,
 "nbformat_minor": 2
}
